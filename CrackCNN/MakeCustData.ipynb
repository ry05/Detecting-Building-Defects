{
 "cells": [
  {
   "cell_type": "code",
   "execution_count": 1,
   "metadata": {},
   "outputs": [
    {
     "name": "stdout",
     "output_type": "stream",
     "text": [
      "customtest/\n",
      "['10 resized.jpg', '11 resized.jpg', '12 resized.jpg', '13 resized.jpg', '14 resized.jpg', '15 resized.jpg', '16 resized.jpg', '17 resized.jpg', '18 resized.jpg', '19 resized.jpg', '1_not size resized.jpg', '2 resized.jpg', '20 resized.jpg', '21 resized.jpg', '22 resized.jpg', '23 resized.jpg', '24 resized.jpg', '25 resized.jpg', '26 resized.jpg', '27 resized.jpg', '28 resized.jpg', '29 resized.jpg', '3 resized.jpg', '30 resized.jpg', '4 resized.jpg', '5 resized.jpg', '6 resized.jpg', '7 resized.jpg']\n",
      "28\n"
     ]
    }
   ],
   "source": [
    "import os\n",
    "import cv2\n",
    "\n",
    "custtest = []\n",
    "path = \"customtest/\"   #defining a folder for custom data\n",
    "def create_testing_data():\n",
    "    #path = os.path.join(DATADIR,category)  \n",
    "    print(path)\n",
    "    print(os.listdir(path))\n",
    "    for img in os.listdir(path):  \n",
    "        img_array = cv2.imread(os.path.join(path,img) ,cv2.IMREAD_GRAYSCALE)  \n",
    "        custtest.append([img_array])\n",
    "\n",
    "\n",
    "create_testing_data()\n",
    "\n",
    "print(len(custtest))\n",
    "#custtest[2]"
   ]
  },
  {
   "cell_type": "code",
   "execution_count": 2,
   "metadata": {},
   "outputs": [],
   "source": [
    "import numpy as np\n",
    "\n",
    "X = np.array(custtest)\n",
    "X = X/255.0\n"
   ]
  },
  {
   "cell_type": "code",
   "execution_count": 4,
   "metadata": {},
   "outputs": [],
   "source": [
    "X1 = X.reshape([28,1,227, 227,1])"
   ]
  },
  {
   "cell_type": "code",
   "execution_count": 5,
   "metadata": {},
   "outputs": [
    {
     "data": {
      "text/plain": [
       "(28, 1, 227, 227, 1)"
      ]
     },
     "execution_count": 5,
     "metadata": {},
     "output_type": "execute_result"
    }
   ],
   "source": [
    "X1.shape"
   ]
  },
  {
   "cell_type": "code",
   "execution_count": 6,
   "metadata": {},
   "outputs": [],
   "source": [
    "import pickle\n",
    "#saving the training data array\n",
    "pickle_out = open(\"ftotsu28.pickle\",\"wb\")\n",
    "pickle.dump(X1, pickle_out)\n",
    "pickle_out.close()\n",
    "\n"
   ]
  },
  {
   "cell_type": "code",
   "execution_count": null,
   "metadata": {},
   "outputs": [],
   "source": []
  }
 ],
 "metadata": {
  "kernelspec": {
   "display_name": "Python 3",
   "language": "python",
   "name": "python3"
  },
  "language_info": {
   "codemirror_mode": {
    "name": "ipython",
    "version": 3
   },
   "file_extension": ".py",
   "mimetype": "text/x-python",
   "name": "python",
   "nbconvert_exporter": "python",
   "pygments_lexer": "ipython3",
   "version": "3.7.3"
  }
 },
 "nbformat": 4,
 "nbformat_minor": 2
}
