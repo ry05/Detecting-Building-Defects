{
 "cells": [
  {
   "cell_type": "code",
   "execution_count": 1,
   "metadata": {},
   "outputs": [],
   "source": [
    "import pickle\n",
    "import tensorflow as tf\n",
    "from tensorflow.keras.preprocessing.image import ImageDataGenerator\n",
    "from tensorflow.keras.models import Sequential\n",
    "from tensorflow.keras.layers import Dense, Dropout, Activation, Flatten\n",
    "from tensorflow.keras.layers import Conv2D, MaxPooling2D\n",
    "import os\n",
    "import cv2"
   ]
  },
  {
   "cell_type": "code",
   "execution_count": 2,
   "metadata": {},
   "outputs": [],
   "source": [
    "#loading the training data\n",
    "pickle_in = open(\"X.pickle\",\"rb\")\n",
    "X = pickle.load(pickle_in)\n",
    "\n",
    "pickle_in = open(\"y.pickle\",\"rb\")\n",
    "y = pickle.load(pickle_in)"
   ]
  },
  {
   "cell_type": "code",
   "execution_count": 3,
   "metadata": {},
   "outputs": [],
   "source": [
    "X = X/255.0   #normalization"
   ]
  },
  {
   "cell_type": "code",
   "execution_count": 4,
   "metadata": {},
   "outputs": [],
   "source": [
    "#print(X.shape)\n",
    "X=X.reshape([10000, 227, 227,1])\n",
    "#print(X.shape)"
   ]
  },
  {
   "cell_type": "markdown",
   "metadata": {},
   "source": [
    "# The CNN"
   ]
  },
  {
   "cell_type": "code",
   "execution_count": 5,
   "metadata": {},
   "outputs": [],
   "source": [
    "\n",
    "checkpoint_path = \"cp.ckpt\"\n",
    "checkpoint_dir = os.path.dirname(checkpoint_path)\n",
    "\n",
    "# Create checkpoint callback\n",
    "cp_callback = tf.keras.callbacks.ModelCheckpoint(checkpoint_path,\n",
    "                                                 save_weights_only=True,\n",
    "                                                 verbose=1)\n",
    "\n",
    "\n",
    "\n",
    "\n"
   ]
  },
  {
   "cell_type": "code",
   "execution_count": 6,
   "metadata": {},
   "outputs": [
    {
     "name": "stdout",
     "output_type": "stream",
     "text": [
      "WARNING:tensorflow:From C:\\Users\\SRIKANTH\\Anaconda3\\lib\\site-packages\\tensorflow\\python\\ops\\resource_variable_ops.py:435: colocate_with (from tensorflow.python.framework.ops) is deprecated and will be removed in a future version.\n",
      "Instructions for updating:\n",
      "Colocations handled automatically by placer.\n",
      "(10000, 227, 227, 1)\n",
      "Train on 9000 samples, validate on 1000 samples\n",
      "WARNING:tensorflow:From C:\\Users\\SRIKANTH\\Anaconda3\\lib\\site-packages\\tensorflow\\python\\ops\\math_ops.py:3066: to_int32 (from tensorflow.python.ops.math_ops) is deprecated and will be removed in a future version.\n",
      "Instructions for updating:\n",
      "Use tf.cast instead.\n",
      "9000/9000 [==============================] - 964s 107ms/sample - loss: 7.9754 - acc: 0.4983 - val_loss: 7.7002 - val_acc: 0.5170\n"
     ]
    },
    {
     "data": {
      "text/plain": [
       "<tensorflow.python.keras.callbacks.History at 0x2470084a630>"
      ]
     },
     "execution_count": 6,
     "metadata": {},
     "output_type": "execute_result"
    }
   ],
   "source": [
    "model = Sequential()\n",
    "#layers\n",
    "model.add(Conv2D(64,(3,3),input_shape=(227,227,1)))\n",
    "model.add(Activation('relu'))\n",
    "model.add(MaxPooling2D(pool_size=(2, 2)))\n",
    "\n",
    "model.add(Conv2D(64,(3,3)))\n",
    "model.add(Activation('relu'))\n",
    "model.add(MaxPooling2D(pool_size=(2, 2)))\n",
    "\n",
    "model.add(Flatten())  \n",
    "\n",
    "model.add(Dense(64))\n",
    "\n",
    "model.add(Dense(1))\n",
    "model.add(Activation('sigmoid'))\n",
    "          \n",
    "model.compile(loss='binary_crossentropy',\n",
    "              optimizer='adam',\n",
    "              metrics=['accuracy'])\n",
    "print(X.shape)\n",
    "model.fit(X, y, batch_size=32, epochs=2, validation_split=0.1)   #performing training and validation\n",
    "\n",
    "\n"
   ]
  },
  {
   "cell_type": "code",
   "execution_count": 7,
   "metadata": {},
   "outputs": [
    {
     "data": {
      "text/plain": [
       "'import cv2\\n\\nimgar = cv2.imread(\"customtest/test3.jpg\" ,cv2.IMREAD_GRAYSCALE) \\nimport matplotlib.pyplot as plt\\nplt.imshow(imgar, cmap=\\'gray\\') \\nplt.show()  \\nimgar= imgar/255.0\\nimgar1 = imgar.reshape(1,227,227,1)\\nmodel.predict(imgar1)'"
      ]
     },
     "execution_count": 7,
     "metadata": {},
     "output_type": "execute_result"
    }
   ],
   "source": [
    "'''import cv2\n",
    "\n",
    "imgar = cv2.imread(\"customtest/test3.jpg\" ,cv2.IMREAD_GRAYSCALE) \n",
    "import matplotlib.pyplot as plt\n",
    "plt.imshow(imgar, cmap='gray') \n",
    "plt.show()  \n",
    "imgar= imgar/255.0\n",
    "imgar1 = imgar.reshape(1,227,227,1)\n",
    "model.predict(imgar1)'''"
   ]
  },
  {
   "cell_type": "markdown",
   "metadata": {},
   "source": [
    "# Testing with Custom Data"
   ]
  },
  {
   "cell_type": "code",
   "execution_count": 12,
   "metadata": {},
   "outputs": [
    {
     "name": "stdout",
     "output_type": "stream",
     "text": [
      "['00008_resized.jpg', '00009_resized.jpg', '00010_resized.jpg', '00014_resized.jpg', '00015_resized.jpg', '00022_resized.jpg', '00023_resized.jpg', '00026_resized.jpg', '00030_resized.jpg', '00032_resized.jpg', '00033_resized.jpg', '00034_resized.jpg', '00038_resized.jpg', '00039_resized.jpg', '00040_resized.jpg', '00041_resized.jpg', '00042_resized.jpg', '00046_resized.jpg', '00047_resized.jpg', '00048_resized.jpg', '00049_resized.jpg', '00050_resized.jpg', '00052_resized.jpg', '00054_resized.jpg', '00055_resized.jpg', '00056_resized.jpg', '00057_resized.jpg', '00058_resized.jpg', '00060_resized.jpg', '00062_resized.jpg', '00064_resized.jpg', '00065_resized.jpg', '00066_resized.jpg', '00070_resized.jpg', '00071_resized.jpg', '00072_resized.jpg', '00073_resized.jpg', '00075_resized.jpg', '00077_resized.jpg', '00078_resized.jpg', '00079_resized.jpg', '00085_resized.jpg', '00086_resized.jpg', '00087_resized.jpg', '00118_resized.jpg', '00119_resized.jpg', '00126_resized.jpg', '00127_resized.jpg', '00159_resized.jpg', '00161_resized.jpg', '00162_resized.jpg', '00173_resized.jpg', '00174_resized.jpg', '00175_resized.jpg', '00192_resized.jpg', '00193_resized.jpg', '00194_resized.jpg', '00195_resized.jpg', '00196_resized.jpg', '00197_resized.jpg', '00201_resized.jpg', '00202_resized.jpg', '00203_resized.jpg', '00204_resized.jpg', '00205_resized.jpg', '00206_resized.jpg', '00207_resized.jpg', '00208_resized.jpg', '00209_resized.jpg', '00210_resized.jpg', '00211_resized.jpg', '00212_resized.jpg', '00213_resized.jpg', '00214_resized.jpg', '00215_resized.jpg', '00216_resized.jpg', '00217_resized.jpg', '00218_resized.jpg', '00219_resized.jpg', '00220_resized.jpg', '00221_resized.jpg', '00222_resized.jpg', '00223_resized.jpg', '00224_resized.jpg', '00225_resized.jpg', '00226_resized.jpg', '00227_resized.jpg', '00228_resized.jpg', '00229_resized.jpg', '00233_resized.jpg', '00237_resized.jpg', '00238_resized.jpg', '00239_resized.jpg', '00240_resized.jpg', '00241_resized.jpg', '00248_resized.jpg', '00249_resized.jpg', '00250_resized.jpg', '00251_resized.jpg', '00252_resized.jpg', '00253_resized.jpg', '00254_resized.jpg', '00263_resized.jpg', '00264_resized.jpg', '00265_resized.jpg', '00266_resized.jpg', '00267_resized.jpg', '00276_resized.jpg', '00277_resized.jpg', '00278_resized.jpg', '00279_resized.jpg', '00280_resized.jpg', '00281_resized.jpg', '00285_resized.jpg', '00290_resized.jpg', '00291_resized.jpg', '00292_resized.jpg', '1.jpg', '2.jpg']\n"
     ]
    }
   ],
   "source": [
    "cnt = 3\n",
    "path = \"customtest/\"\n",
    "for img in os.listdir(path):  \n",
    "    st = str(cnt) + '.jpg'\n",
    "    os.rename(path+img,path+st)\n",
    "    cnt += 1"
   ]
  },
  {
   "cell_type": "code",
   "execution_count": 1,
   "metadata": {},
   "outputs": [
    {
     "name": "stdout",
     "output_type": "stream",
     "text": [
      "customtest/\n"
     ]
    },
    {
     "ename": "NameError",
     "evalue": "name 'os' is not defined",
     "output_type": "error",
     "traceback": [
      "\u001b[1;31m---------------------------------------------------------------------------\u001b[0m",
      "\u001b[1;31mNameError\u001b[0m                                 Traceback (most recent call last)",
      "\u001b[1;32m<ipython-input-1-4ef837d64c2b>\u001b[0m in \u001b[0;36m<module>\u001b[1;34m\u001b[0m\n\u001b[0;32m     11\u001b[0m \u001b[1;33m\u001b[0m\u001b[0m\n\u001b[0;32m     12\u001b[0m \u001b[1;33m\u001b[0m\u001b[0m\n\u001b[1;32m---> 13\u001b[1;33m \u001b[0mcreate_testing_data\u001b[0m\u001b[1;33m(\u001b[0m\u001b[1;33m)\u001b[0m\u001b[1;33m\u001b[0m\u001b[1;33m\u001b[0m\u001b[0m\n\u001b[0m\u001b[0;32m     14\u001b[0m \u001b[1;33m\u001b[0m\u001b[0m\n\u001b[0;32m     15\u001b[0m \u001b[0mprint\u001b[0m\u001b[1;33m(\u001b[0m\u001b[0mlen\u001b[0m\u001b[1;33m(\u001b[0m\u001b[0mcusttest\u001b[0m\u001b[1;33m)\u001b[0m\u001b[1;33m)\u001b[0m\u001b[1;33m\u001b[0m\u001b[1;33m\u001b[0m\u001b[0m\n",
      "\u001b[1;32m<ipython-input-1-4ef837d64c2b>\u001b[0m in \u001b[0;36mcreate_testing_data\u001b[1;34m()\u001b[0m\n\u001b[0;32m      5\u001b[0m     \u001b[1;31m#path = os.path.join(DATADIR,category)\u001b[0m\u001b[1;33m\u001b[0m\u001b[1;33m\u001b[0m\u001b[1;33m\u001b[0m\u001b[0m\n\u001b[0;32m      6\u001b[0m     \u001b[0mprint\u001b[0m\u001b[1;33m(\u001b[0m\u001b[0mpath\u001b[0m\u001b[1;33m)\u001b[0m\u001b[1;33m\u001b[0m\u001b[1;33m\u001b[0m\u001b[0m\n\u001b[1;32m----> 7\u001b[1;33m     \u001b[0mprint\u001b[0m\u001b[1;33m(\u001b[0m\u001b[0mos\u001b[0m\u001b[1;33m.\u001b[0m\u001b[0mlistdir\u001b[0m\u001b[1;33m(\u001b[0m\u001b[0mpath\u001b[0m\u001b[1;33m)\u001b[0m\u001b[1;33m)\u001b[0m\u001b[1;33m\u001b[0m\u001b[1;33m\u001b[0m\u001b[0m\n\u001b[0m\u001b[0;32m      8\u001b[0m     \u001b[1;32mfor\u001b[0m \u001b[0mimg\u001b[0m \u001b[1;32min\u001b[0m \u001b[0mos\u001b[0m\u001b[1;33m.\u001b[0m\u001b[0mlistdir\u001b[0m\u001b[1;33m(\u001b[0m\u001b[0mpath\u001b[0m\u001b[1;33m)\u001b[0m\u001b[1;33m:\u001b[0m\u001b[1;33m\u001b[0m\u001b[1;33m\u001b[0m\u001b[0m\n\u001b[0;32m      9\u001b[0m         \u001b[0mimg_array\u001b[0m \u001b[1;33m=\u001b[0m \u001b[0mcv2\u001b[0m\u001b[1;33m.\u001b[0m\u001b[0mimread\u001b[0m\u001b[1;33m(\u001b[0m\u001b[0mos\u001b[0m\u001b[1;33m.\u001b[0m\u001b[0mpath\u001b[0m\u001b[1;33m.\u001b[0m\u001b[0mjoin\u001b[0m\u001b[1;33m(\u001b[0m\u001b[0mpath\u001b[0m\u001b[1;33m,\u001b[0m\u001b[0mimg\u001b[0m\u001b[1;33m)\u001b[0m \u001b[1;33m,\u001b[0m\u001b[0mcv2\u001b[0m\u001b[1;33m.\u001b[0m\u001b[0mIMREAD_GRAYSCALE\u001b[0m\u001b[1;33m)\u001b[0m\u001b[1;33m\u001b[0m\u001b[1;33m\u001b[0m\u001b[0m\n",
      "\u001b[1;31mNameError\u001b[0m: name 'os' is not defined"
     ]
    }
   ],
   "source": [
    "custtest = []\n",
    "path = \"customtest/\"   #defining a folder for custom data\n",
    "def create_testing_data():\n",
    "    #path = os.path.join(DATADIR,category)  \n",
    "    print(path)\n",
    "    print(os.listdir(path))\n",
    "    for img in os.listdir(path):  \n",
    "        img_array = cv2.imread(os.path.join(path,img) ,cv2.IMREAD_GRAYSCALE)  \n",
    "        custtest.append([img_array])\n",
    "\n",
    "\n",
    "create_testing_data()\n",
    "\n",
    "print(len(custtest))\n",
    "#custtest[2]"
   ]
  },
  {
   "cell_type": "code",
   "execution_count": 15,
   "metadata": {},
   "outputs": [],
   "source": [
    "import numpy as np\n",
    "\n",
    "X = np.array(custtest)\n",
    "X = X/255.0\n",
    "X1 = X.reshape([120,1,227, 227,1])\n",
    "#X1[1\n"
   ]
  },
  {
   "cell_type": "code",
   "execution_count": 16,
   "metadata": {
    "scrolled": true
   },
   "outputs": [
    {
     "name": "stdout",
     "output_type": "stream",
     "text": [
      "Cracked: 0\n",
      "Not Cracked: 1\n",
      "Image number 1 [[0.6509297]]\n",
      "Image number 2 [[0.79651576]]\n",
      "Image number 3 [[0.7733114]]\n",
      "Image number 4 [[0.7700592]]\n",
      "Image number 5 [[0.6759244]]\n",
      "Image number 6 [[0.66631544]]\n",
      "Image number 7 [[0.8124841]]\n",
      "Image number 8 [[0.6757484]]\n",
      "Image number 9 [[0.7847401]]\n",
      "Image number 10 [[0.9621048]]\n",
      "Image number 11 [[0.5910853]]\n",
      "Image number 12 [[0.67679185]]\n",
      "Image number 13 [[0.9824706]]\n",
      "Image number 14 [[0.9705897]]\n",
      "Image number 15 [[0.01140553]]\n",
      "Image number 16 [[0.8412251]]\n",
      "Image number 17 [[0.49197426]]\n",
      "Image number 18 [[0.78348416]]\n",
      "Image number 19 [[0.99763775]]\n",
      "Image number 20 [[0.99630713]]\n",
      "Image number 21 [[0.8860064]]\n",
      "Image number 22 [[0.2189056]]\n",
      "Image number 23 [[0.8679211]]\n",
      "Image number 24 [[0.96203065]]\n",
      "Image number 25 [[0.869151]]\n",
      "Image number 26 [[0.39697203]]\n",
      "Image number 27 [[0.6392387]]\n",
      "Image number 28 [[0.39105532]]\n",
      "Image number 29 [[0.57580566]]\n",
      "Image number 30 [[0.9198825]]\n",
      "Image number 31 [[0.7395712]]\n",
      "Image number 32 [[0.85999304]]\n",
      "Image number 33 [[0.7872287]]\n",
      "Image number 34 [[0.8076618]]\n",
      "Image number 35 [[0.55382526]]\n",
      "Image number 36 [[0.09426377]]\n",
      "Image number 37 [[0.5483466]]\n",
      "Image number 38 [[0.92173624]]\n",
      "Image number 39 [[0.8008432]]\n",
      "Image number 40 [[0.6847378]]\n",
      "Image number 41 [[0.9993197]]\n",
      "Image number 42 [[0.84250355]]\n",
      "Image number 43 [[0.7787341]]\n",
      "Image number 44 [[0.78204566]]\n",
      "Image number 45 [[0.75364083]]\n",
      "Image number 46 [[0.92115474]]\n",
      "Image number 47 [[0.33336392]]\n",
      "Image number 48 [[0.31326973]]\n",
      "Image number 49 [[0.9953328]]\n",
      "Image number 50 [[0.37166736]]\n",
      "Image number 51 [[0.86833656]]\n",
      "Image number 52 [[0.9031798]]\n",
      "Image number 53 [[0.9920289]]\n",
      "Image number 54 [[0.912805]]\n",
      "Image number 55 [[0.8858027]]\n",
      "Image number 56 [[0.0990727]]\n",
      "Image number 57 [[0.75946075]]\n",
      "Image number 58 [[0.02966735]]\n",
      "Image number 59 [[0.8455173]]\n",
      "Image number 60 [[0.80348533]]\n",
      "Image number 61 [[0.00134618]]\n",
      "Image number 62 [[0.72543585]]\n",
      "Image number 63 [[0.7599598]]\n",
      "Image number 64 [[0.70613736]]\n",
      "Image number 65 [[0.8051787]]\n",
      "Image number 66 [[0.8382508]]\n",
      "Image number 67 [[0.7860321]]\n",
      "Image number 68 [[0.75985646]]\n",
      "Image number 69 [[0.7802673]]\n",
      "Image number 70 [[0.02377598]]\n",
      "Image number 71 [[0.9990079]]\n",
      "Image number 72 [[0.70143986]]\n",
      "Image number 73 [[0.86827093]]\n",
      "Image number 74 [[0.99560684]]\n",
      "Image number 75 [[0.9969007]]\n",
      "Image number 76 [[0.9935767]]\n",
      "Image number 77 [[0.92387474]]\n",
      "Image number 78 [[0.99892396]]\n",
      "Image number 79 [[0.7999865]]\n",
      "Image number 80 [[0.96375185]]\n",
      "Image number 81 [[0.68949354]]\n",
      "Image number 82 [[0.5926422]]\n",
      "Image number 83 [[0.4892266]]\n",
      "Image number 84 [[0.99117786]]\n",
      "Image number 85 [[0.97767305]]\n",
      "Image number 86 [[0.9261921]]\n",
      "Image number 87 [[0.6811191]]\n",
      "Image number 88 [[0.00928965]]\n",
      "Image number 89 [[0.7405088]]\n",
      "Image number 90 [[0.57765895]]\n",
      "Image number 91 [[0.9800585]]\n",
      "Image number 92 [[0.8125202]]\n",
      "Image number 93 [[0.98208195]]\n",
      "Image number 94 [[0.9159979]]\n",
      "Image number 95 [[0.98383266]]\n",
      "Image number 96 [[0.81239736]]\n",
      "Image number 97 [[0.7842003]]\n",
      "Image number 98 [[0.71829337]]\n",
      "Image number 99 [[0.9328776]]\n",
      "Image number 100 [[0.75987446]]\n",
      "Image number 101 [[0.8526215]]\n",
      "Image number 102 [[0.3659632]]\n",
      "Image number 103 [[0.2186665]]\n",
      "Image number 104 [[0.7343058]]\n",
      "Image number 105 [[0.7597589]]\n",
      "Image number 106 [[0.77323425]]\n",
      "Image number 107 [[0.9964922]]\n",
      "Image number 108 [[0.01169417]]\n",
      "Image number 109 [[0.7607255]]\n",
      "Image number 110 [[0.73168164]]\n",
      "Image number 111 [[0.9279496]]\n",
      "Image number 112 [[0.9997116]]\n",
      "Image number 113 [[0.97967875]]\n",
      "Image number 114 [[0.8710104]]\n",
      "Image number 115 [[0.72619486]]\n",
      "Image number 116 [[0.92607975]]\n",
      "Image number 117 [[0.6576609]]\n",
      "Image number 118 [[0.9268405]]\n",
      "Image number 119 [[0.999385]]\n",
      "Image number 120 [[0.812508]]\n",
      "Accuracy  0.85\n"
     ]
    }
   ],
   "source": [
    "n=0\n",
    "tot = 120   #total number of images\n",
    "cnt = 0\n",
    "print(\"Cracked: 0\")\n",
    "print(\"Not Cracked: 1\")\n",
    "for i in X1:\n",
    "    n+=1\n",
    "    if model.predict(i)[0]>0.5:   #classifying the custom images\n",
    "        cnt += 1  #Number of non cracked concrete images\n",
    "    print(\"Image number\",n,model.predict(i))\n",
    "acc = (cnt)/tot   #calculating accuracy\n",
    "print(\"Accuracy \", acc)"
   ]
  },
  {
   "cell_type": "code",
   "execution_count": null,
   "metadata": {},
   "outputs": [],
   "source": []
  },
  {
   "cell_type": "code",
   "execution_count": null,
   "metadata": {},
   "outputs": [],
   "source": []
  }
 ],
 "metadata": {
  "kernelspec": {
   "display_name": "Python 3",
   "language": "python",
   "name": "python3"
  },
  "language_info": {
   "codemirror_mode": {
    "name": "ipython",
    "version": 3
   },
   "file_extension": ".py",
   "mimetype": "text/x-python",
   "name": "python",
   "nbconvert_exporter": "python",
   "pygments_lexer": "ipython3",
   "version": "3.7.3"
  }
 },
 "nbformat": 4,
 "nbformat_minor": 2
}
